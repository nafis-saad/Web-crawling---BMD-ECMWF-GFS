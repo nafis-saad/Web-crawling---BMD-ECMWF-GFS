{
  "nbformat": 4,
  "nbformat_minor": 0,
  "metadata": {
    "colab": {
      "name": "Working with API.ipynb",
      "provenance": [],
      "authorship_tag": "ABX9TyN//c2CRYMd3ykpgnauzXVC",
      "include_colab_link": true
    },
    "kernelspec": {
      "name": "python3",
      "display_name": "Python 3"
    },
    "language_info": {
      "name": "python"
    }
  },
  "cells": [
    {
      "cell_type": "markdown",
      "metadata": {
        "id": "view-in-github",
        "colab_type": "text"
      },
      "source": [
        "<a href=\"https://colab.research.google.com/github/nafis-saad/Web-crawling---BMD-ECMWF-GFS/blob/main/Working_with_API.ipynb\" target=\"_parent\"><img src=\"https://colab.research.google.com/assets/colab-badge.svg\" alt=\"Open In Colab\"/></a>"
      ]
    },
    {
      "cell_type": "code",
      "execution_count": null,
      "metadata": {
        "colab": {
          "base_uri": "https://localhost:8080/"
        },
        "id": "0cFgmUxgsu91",
        "outputId": "858dd12d-130f-4166-8a5f-9869f6ba72e3"
      },
      "outputs": [
        {
          "output_type": "stream",
          "name": "stdout",
          "text": [
            "Date 20220318 -> Max temp= 28 degree , Min temp =22 degree \n",
            "Date 20220319 -> Max temp= 27 degree , Min temp =21 degree \n",
            "Date 20220320 -> Max temp= 26 degree , Min temp =21 degree \n",
            "Date 20220321 -> Max temp= 26 degree , Min temp =21 degree \n",
            "Date 20220322 -> Max temp= 25 degree , Min temp =20 degree \n",
            "Date 20220323 -> Max temp= 21 degree , Min temp =17 degree \n",
            "Date 20220324 -> Max temp= 20 degree , Min temp =16 degree \n",
            "Date 20220325 -> Max temp= 21 degree , Min temp =16 degree \n",
            "Date 20220326 -> Max temp= 23 degree , Min temp =18 degree \n"
          ]
        }
      ],
      "source": [
        "import requests\n",
        "import datetime\n",
        "url ='https://data.weather.gov.hk/weatherAPI/opendata/weather.php?dataType=fnd&lang=en'\n",
        "result = requests.get(url)\n",
        "result.status_code\n",
        "\n",
        "forecast = result.json()[\"weatherForecast\"]\n",
        "\n",
        "for i in range(9):\n",
        "  date = str(forecast[i][\"forecastDate\"])\n",
        "  max = forecast[i][\"forecastMaxtemp\"]['value']\n",
        "  min = forecast[i][\"forecastMintemp\"]['value']\n",
        "  print(f\"Date {date} -> Max temp= {max} degree , Min temp ={min} degree \")"
      ]
    }
  ]
}